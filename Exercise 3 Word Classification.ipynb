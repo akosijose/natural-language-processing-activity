{
 "cells": [
  {
   "cell_type": "markdown",
   "id": "cabb0a0c",
   "metadata": {},
   "source": [
    "# Exercise 3: Word Classification"
   ]
  },
  {
   "cell_type": "code",
   "execution_count": 1,
   "id": "371c845d",
   "metadata": {},
   "outputs": [
    {
     "data": {
      "text/plain": [
       "True"
      ]
     },
     "execution_count": 1,
     "metadata": {},
     "output_type": "execute_result"
    }
   ],
   "source": [
    "import nltk\n",
    "nltk.download('names', quiet = True)"
   ]
  },
  {
   "cell_type": "code",
   "execution_count": 2,
   "id": "fa663542",
   "metadata": {},
   "outputs": [],
   "source": [
    "files=nltk.corpus.names.fileids()\n",
    "# print(files)\n",
    "female=nltk.corpus.names.words('female.txt')\n",
    "male=nltk.corpus.names.words('male.txt')"
   ]
  },
  {
   "cell_type": "code",
   "execution_count": 3,
   "id": "b4d1650c",
   "metadata": {},
   "outputs": [
    {
     "data": {
      "text/plain": [
       "['Abagael',\n",
       " 'Abagail',\n",
       " 'Abbe',\n",
       " 'Abbey',\n",
       " 'Abbi',\n",
       " 'Abbie',\n",
       " 'Abby',\n",
       " 'Abigael',\n",
       " 'Abigail',\n",
       " 'Abigale',\n",
       " 'Abra',\n",
       " 'Acacia',\n",
       " 'Ada',\n",
       " 'Adah',\n",
       " 'Adaline',\n",
       " 'Adara',\n",
       " 'Addie',\n",
       " 'Addis',\n",
       " 'Adel',\n",
       " 'Adela']"
      ]
     },
     "execution_count": 3,
     "metadata": {},
     "output_type": "execute_result"
    }
   ],
   "source": [
    "male[:20]\n",
    "female[:20]"
   ]
  },
  {
   "cell_type": "code",
   "execution_count": 4,
   "id": "21599de9",
   "metadata": {},
   "outputs": [
    {
     "name": "stdout",
     "output_type": "stream",
     "text": [
      "male =2943\n",
      "female =5001\n"
     ]
    }
   ],
   "source": [
    "print('male ='+ str(len(male)))\n",
    "print('female =' + str(len(female)))"
   ]
  },
  {
   "cell_type": "code",
   "execution_count": 5,
   "id": "19234273",
   "metadata": {},
   "outputs": [],
   "source": [
    "import random\n",
    "random.seed(0)"
   ]
  },
  {
   "cell_type": "code",
   "execution_count": 6,
   "id": "14026bf2",
   "metadata": {},
   "outputs": [],
   "source": [
    "from sklearn.model_selection import train_test_split\n",
    "from sklearn.feature_extraction import DictVectorizer\n",
    "from sklearn.naive_bayes import BernoulliNB\n",
    "from sklearn.metrics import (\n",
    "    classification_report,\n",
    "    roc_auc_score,\n",
    "    confusion_matrix,\n",
    ")\n"
   ]
  },
  {
   "cell_type": "markdown",
   "id": "4e509a0b",
   "metadata": {},
   "source": [
    "### Make sure that the data is balanced. One label should not be x1.5 the other one."
   ]
  },
  {
   "cell_type": "code",
   "execution_count": 7,
   "id": "ea4fae82",
   "metadata": {},
   "outputs": [],
   "source": [
    "female = list(female)\n",
    "random.shuffle(female)\n",
    "female = female[:len(male)]\n",
    "words = female + list(male)\n",
    "labels = [0] * len(female) + [1] * len(male)\n"
   ]
  },
  {
   "cell_type": "code",
   "execution_count": 8,
   "id": "34d56468",
   "metadata": {},
   "outputs": [
    {
     "data": {
      "text/plain": [
       "(5886, 5886)"
      ]
     },
     "execution_count": 8,
     "metadata": {},
     "output_type": "execute_result"
    }
   ],
   "source": [
    "len(words), len(labels)"
   ]
  },
  {
   "cell_type": "markdown",
   "id": "030bd067",
   "metadata": {},
   "source": [
    "### Create features that might be an indicator of a name’s gender"
   ]
  },
  {
   "cell_type": "code",
   "execution_count": 9,
   "id": "3743f004",
   "metadata": {},
   "outputs": [],
   "source": [
    "import random\n",
    "from nltk.corpus import names\n",
    "import nltk"
   ]
  },
  {
   "cell_type": "code",
   "execution_count": 10,
   "id": "140b1885",
   "metadata": {},
   "outputs": [
    {
     "name": "stdout",
     "output_type": "stream",
     "text": [
      "male\n",
      "0.7647770016120365\n",
      "Most Informative Features\n",
      "             last_letter = 'a'            female : male   =     35.6 : 1.0\n",
      "             last_letter = 'k'              male : female =     30.4 : 1.0\n",
      "             last_letter = 'f'              male : female =     16.0 : 1.0\n",
      "             last_letter = 'v'              male : female =     11.2 : 1.0\n",
      "             last_letter = 'p'              male : female =     10.6 : 1.0\n",
      "             last_letter = 'd'              male : female =     10.3 : 1.0\n",
      "             last_letter = 'o'              male : female =      8.8 : 1.0\n",
      "             last_letter = 'm'              male : female =      8.6 : 1.0\n",
      "             last_letter = 'r'              male : female =      7.4 : 1.0\n",
      "             last_letter = 'g'              male : female =      5.5 : 1.0\n",
      "             last_letter = 'w'              male : female =      5.1 : 1.0\n",
      "             last_letter = 't'              male : female =      4.4 : 1.0\n",
      "             last_letter = 's'              male : female =      4.4 : 1.0\n",
      "             last_letter = 'z'              male : female =      4.3 : 1.0\n",
      "             last_letter = 'j'              male : female =      4.0 : 1.0\n",
      "             last_letter = 'b'              male : female =      3.9 : 1.0\n",
      "             last_letter = 'i'            female : male   =      3.7 : 1.0\n",
      "             last_letter = 'u'              male : female =      3.0 : 1.0\n",
      "             last_letter = 'n'              male : female =      2.1 : 1.0\n",
      "             last_letter = 'x'              male : female =      1.9 : 1.0\n"
     ]
    },
    {
     "data": {
      "text/plain": [
       "[{'3-suffix': 'rci', '3-prefix': 'Dar'},\n",
       " {'3-suffix': 'cka', '3-prefix': 'Eri'},\n",
       " {'3-suffix': 'lie', '3-prefix': 'Ell'},\n",
       " {'3-suffix': 'ena', '3-prefix': 'Cor'},\n",
       " {'3-suffix': 'ine', '3-prefix': 'Fra'},\n",
       " {'3-suffix': 'nor', '3-prefix': 'Ele'},\n",
       " {'3-suffix': 'yne', '3-prefix': 'Fra'},\n",
       " {'3-suffix': 'nta', '3-prefix': 'Ata'},\n",
       " {'3-suffix': 'ite', '3-prefix': 'Ben'},\n",
       " {'3-suffix': 'lly', '3-prefix': 'Lol'}]"
      ]
     },
     "execution_count": 10,
     "metadata": {},
     "output_type": "execute_result"
    }
   ],
   "source": [
    "def gender_features(word):\n",
    "    return {'last_letter':word[-1]}\n",
    "  \n",
    "# preparing a list of examples and corresponding class labels.\n",
    "labeled_names = ([(name, 'male') for name in names.words('male.txt')]+\n",
    "             [(name, 'female') for name in names.words('female.txt')])\n",
    "  \n",
    "random.shuffle(labeled_names)\n",
    "  \n",
    "featuresets = [(gender_features(n), gender) \n",
    "               for (n, gender)in labeled_names]\n",
    "  \n",
    "train_set, test_set = featuresets[500:], featuresets[:500]\n",
    "  \n",
    "classifier = nltk.NaiveBayesClassifier.train(train_set)\n",
    "  \n",
    "print(classifier.classify(gender_features('josegerald')))\n",
    "  \n",
    "# output should be 'male'\n",
    "print(nltk.classify.accuracy(classifier, train_set))\n",
    "\n",
    "classifier.show_most_informative_features(20)\n",
    "\n",
    "\n",
    "def word_features(word):\n",
    "    return {\n",
    "        '3-suffix': word[-3:],\n",
    "        '3-prefix': word[:3]\n",
    "}\n",
    "\n",
    "word_features = [\n",
    "    word_features(w)\n",
    "    for w in words\n",
    "]\n",
    "\n",
    "word_features[:10]"
   ]
  },
  {
   "cell_type": "markdown",
   "id": "f789e041",
   "metadata": {},
   "source": [
    "### Split the dataset to 75% 10%, 15% for train, validation, and test respectively"
   ]
  },
  {
   "cell_type": "code",
   "execution_count": 11,
   "id": "f955a564",
   "metadata": {},
   "outputs": [
    {
     "data": {
      "text/plain": [
       "(4377, 883, 626)"
      ]
     },
     "execution_count": 11,
     "metadata": {},
     "output_type": "execute_result"
    }
   ],
   "source": [
    "train_features, test_features, train_labels, test_labels = \\\n",
    "    train_test_split(word_features, labels, test_size=0.15, stratify=labels, random_state=0)\n",
    "\n",
    "train_features, val_features, train_labels, val_labels = \\\n",
    "    train_test_split(train_features, train_labels, test_size=1/8, stratify=train_labels, random_state=0)\n",
    "\n",
    "len(train_features), len(test_features), len(val_features)"
   ]
  },
  {
   "cell_type": "markdown",
   "id": "8f75517d",
   "metadata": {},
   "source": [
    "### Use a Random Forest to do the classification"
   ]
  },
  {
   "cell_type": "code",
   "execution_count": 12,
   "id": "20c51e46",
   "metadata": {},
   "outputs": [],
   "source": [
    "dv = DictVectorizer(sparse=False)\n",
    "train_vectors = dv.fit_transform(train_features)\n",
    "val_vectors = dv.transform(val_features)\n",
    "test_vectors = dv.transform(test_features)\n",
    "\n",
    "dv.feature_names_[:10], dv.feature_names_[-10:]\n",
    "\n",
    "\n",
    "nb = BernoulliNB()\n",
    "nb.fit(train_vectors, train_labels)\n",
    "\n",
    "train_predict = nb.predict(train_vectors)\n",
    "val_predict = nb.predict(val_vectors)\n",
    "test_predict =  nb.predict(test_vectors)"
   ]
  },
  {
   "cell_type": "markdown",
   "id": "40c77a91",
   "metadata": {},
   "source": [
    "### Calculate the ROC AUC, precision, recall, accuracy, and confusion matrix for each dataset split\n"
   ]
  },
  {
   "cell_type": "code",
   "execution_count": 13,
   "id": "f558c690",
   "metadata": {},
   "outputs": [
    {
     "name": "stdout",
     "output_type": "stream",
     "text": [
      "              precision    recall  f1-score   support\n",
      "\n",
      "           0       0.90      0.92      0.91      2188\n",
      "           1       0.92      0.90      0.91      2189\n",
      "\n",
      "    accuracy                           0.91      4377\n",
      "   macro avg       0.91      0.91      0.91      4377\n",
      "weighted avg       0.91      0.91      0.91      4377\n",
      "\n"
     ]
    },
    {
     "data": {
      "text/plain": [
       "0.8099041533546326"
      ]
     },
     "execution_count": 13,
     "metadata": {},
     "output_type": "execute_result"
    }
   ],
   "source": [
    "roc_auc_score(train_labels, train_predict)\n",
    "\n",
    "print(classification_report(train_labels, train_predict))\n",
    "\n",
    "confusion_matrix(train_labels, train_predict)\n",
    "\n",
    "\n",
    "roc_auc_score(val_labels, val_predict)\n"
   ]
  },
  {
   "cell_type": "markdown",
   "id": "da596978",
   "metadata": {},
   "source": [
    "### Show the top 10 and the bottom 10 features based on importance\n"
   ]
  },
  {
   "cell_type": "code",
   "execution_count": 14,
   "id": "501b7db5",
   "metadata": {},
   "outputs": [
    {
     "data": {
      "text/plain": [
       "['3-suffix=ton',\n",
       " '3-suffix=ard',\n",
       " '3-prefix=Mar',\n",
       " '3-prefix=Bar',\n",
       " '3-suffix=son',\n",
       " '3-suffix=ley',\n",
       " '3-suffix=ick',\n",
       " '3-suffix=ter',\n",
       " '3-prefix=Wil',\n",
       " '3-suffix=ert']"
      ]
     },
     "execution_count": 14,
     "metadata": {},
     "output_type": "execute_result"
    }
   ],
   "source": [
    "best_neg = nb.feature_log_prob_[0].argsort()\n",
    "best_pos = nb.feature_log_prob_[1].argsort()\n",
    "\n",
    "[dv.feature_names_[idx] for idx in best_neg[-10:][::-1]]\n",
    "\n",
    "[dv.feature_names_[idx] for idx in best_pos[-10:][::-1]]"
   ]
  },
  {
   "cell_type": "code",
   "execution_count": null,
   "id": "08e97070",
   "metadata": {},
   "outputs": [],
   "source": []
  }
 ],
 "metadata": {
  "kernelspec": {
   "display_name": "Python 3 (ipykernel)",
   "language": "python",
   "name": "python3"
  },
  "language_info": {
   "codemirror_mode": {
    "name": "ipython",
    "version": 3
   },
   "file_extension": ".py",
   "mimetype": "text/x-python",
   "name": "python",
   "nbconvert_exporter": "python",
   "pygments_lexer": "ipython3",
   "version": "3.8.10"
  }
 },
 "nbformat": 4,
 "nbformat_minor": 5
}
